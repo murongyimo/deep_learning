{
 "cells": [
  {
   "cell_type": "code",
   "execution_count": 1,
   "metadata": {},
   "outputs": [],
   "source": [
    "import os.path\n",
    "import glob\n",
    "from PIL import Image  \n",
    "import numpy as np\n",
    "import tensorflow as tf\n",
    "from tensorflow.python.platform import gfile\n",
    "import matplotlib.pyplot as plt\n",
    "\n",
    "# 测试输入数据集：flower_photos\n",
    "INPUT_DATA = './dataset/orl_faces_png'\n",
    "OUTPUT_FILE = './dataset/orl_faces.npy'\n",
    "# 测试数据和验证数据比例\n",
    "VALIDATION_PERCENTAGE = 10\n",
    "TEST_PERCENTAGE = 10"
   ]
  },
  {
   "cell_type": "code",
   "execution_count": 2,
   "metadata": {},
   "outputs": [],
   "source": [
    "# 定义函数转化变量类型。\n",
    "def _int64_feature(value):\n",
    "    return tf.train.Feature(int64_list=tf.train.Int64List(value=[value]))\n",
    "#生成字符串的属性\n",
    "def _bytes_feature(value):\n",
    "    return tf.train.Feature(bytes_list=tf.train.BytesList(value=[value]))\n",
    "#获取in_dir下的所有子文件夹\n",
    "def get_sub_dir(in_dir):\n",
    "    dirs = []\n",
    "    if not os.path.exists(in_dir):  \n",
    "        print(in_dir, 'is not existed.')  \n",
    "        return -1\n",
    "    for sub_dir in glob.glob(in_dir+'/*'):  \n",
    "        #sub_dir:各个子文件夹\n",
    "        dirs.append(sub_dir)\n",
    "    return dirs\n",
    "        \n",
    "#获取in_dir下的所有jpg文件\n",
    "def get_file(in_dir):\n",
    "    files = []\n",
    "    if not os.path.exists(in_dir):  \n",
    "        print(in_dir, 'is not existed.')  \n",
    "        return -1\n",
    "    for file in glob.glob(in_dir+'/*.'+'png'):  \n",
    "        #sub_dir:各个子文件夹\n",
    "        files.append(file)\n",
    "    return files\n",
    "    \n",
    "def one_hot(label, num):\n",
    "    onehot = [0]*num\n",
    "    onehot[label] = 1\n",
    "    return np.array(onehot)\n",
    "    \n",
    "def create_image_lists(sess, testing_percentage, validation_percentage):\n",
    "    #初始化数据集\n",
    "    training_images = []\n",
    "    training_labels = []\n",
    "    testing_images = []\n",
    "    testing_labels = []\n",
    "    validation_images = []\n",
    "    validation_labels = []\n",
    "    \n",
    "    #处理各个文件夹下的子文件\n",
    "    dirs = get_sub_dir(INPUT_DATA)\n",
    "    i = 0\n",
    "    for sub_dir in dirs:\n",
    "        print(i,'.processing:',sub_dir)\n",
    "        i = i+1\n",
    "        #标签名即为子文件夹sub_dir的名字-1,范围0~39\n",
    "        _, label= os.path.split(sub_dir)\n",
    "        label = int(label[1:])-1\n",
    "        label_one_hot = one_hot(label, 40)\n",
    "        #files：sub_dir下的文件列表\n",
    "        files = get_file(sub_dir)\n",
    "        for file in files:\n",
    "            image_raw_data = gfile.FastGFile(file, 'rb').read()\n",
    "            image = tf.image.decode_png(image_raw_data)\n",
    "            ##这里unit8转为float32格式，暂时不做处理\n",
    "#             if image.dtype != tf.float32:\n",
    "#                 image = tf.image.convert_image_dtype(image, dtype=tf.float32)\n",
    "            #image_value:numpy.ndarry类型数据\n",
    "            image = tf.image.resize_image_with_crop_or_pad(image, 112, 112)\n",
    "            image_value = sess.run(image)\n",
    "            chance = np.random.randint(100)\n",
    "            if chance < validation_percentage:\n",
    "                validation_images.append(image_value)\n",
    "                validation_labels.append(label_one_hot)\n",
    "            elif chance < (testing_percentage + validation_percentage):\n",
    "                testing_images.append(image_value)\n",
    "                testing_labels.append(label_one_hot)\n",
    "            else:\n",
    "                training_images.append(image_value)\n",
    "                training_labels.append(label_one_hot)\n",
    "    # 将训练数据随机打乱以获得更好的训练效果。\n",
    "    state = np.random.get_state()\n",
    "    np.random.shuffle(training_images)\n",
    "    np.random.set_state(state)\n",
    "    np.random.shuffle(training_labels)\n",
    "    print('train_label[0]:',training_labels[0])\n",
    "    plt.imshow(training_images[0].reshape(112, 112), cmap=plt.get_cmap('gray'))\n",
    "    \n",
    "    return np.asarray([training_images, training_labels,\n",
    "                       validation_images, validation_labels,\n",
    "                       testing_images, testing_labels])"
   ]
  },
  {
   "cell_type": "code",
   "execution_count": 3,
   "metadata": {},
   "outputs": [
    {
     "name": "stdout",
     "output_type": "stream",
     "text": [
      "processing ./dataset/orl_faces_png/s40\n",
      "processing ./dataset/orl_faces_png/s39\n",
      "processing ./dataset/orl_faces_png/s23\n",
      "processing ./dataset/orl_faces_png/s17\n",
      "processing ./dataset/orl_faces_png/s22\n",
      "processing ./dataset/orl_faces_png/s14\n",
      "processing ./dataset/orl_faces_png/s19\n",
      "processing ./dataset/orl_faces_png/s15\n",
      "processing ./dataset/orl_faces_png/s16\n",
      "processing ./dataset/orl_faces_png/s28\n",
      "processing ./dataset/orl_faces_png/s4\n",
      "processing ./dataset/orl_faces_png/s1\n",
      "processing ./dataset/orl_faces_png/s9\n",
      "processing ./dataset/orl_faces_png/s30\n",
      "processing ./dataset/orl_faces_png/s24\n",
      "processing ./dataset/orl_faces_png/s25\n",
      "processing ./dataset/orl_faces_png/s27\n",
      "processing ./dataset/orl_faces_png/s34\n",
      "processing ./dataset/orl_faces_png/s18\n",
      "processing ./dataset/orl_faces_png/s5\n",
      "processing ./dataset/orl_faces_png/s26\n",
      "processing ./dataset/orl_faces_png/s6\n",
      "processing ./dataset/orl_faces_png/s21\n",
      "processing ./dataset/orl_faces_png/s2\n",
      "processing ./dataset/orl_faces_png/s29\n",
      "processing ./dataset/orl_faces_png/s36\n",
      "processing ./dataset/orl_faces_png/s38\n",
      "processing ./dataset/orl_faces_png/s13\n",
      "processing ./dataset/orl_faces_png/s35\n",
      "processing ./dataset/orl_faces_png/s8\n",
      "processing ./dataset/orl_faces_png/s11\n",
      "processing ./dataset/orl_faces_png/s31\n",
      "processing ./dataset/orl_faces_png/s33\n",
      "processing ./dataset/orl_faces_png/s7\n",
      "processing ./dataset/orl_faces_png/s10\n",
      "processing ./dataset/orl_faces_png/s20\n",
      "processing ./dataset/orl_faces_png/s37\n",
      "processing ./dataset/orl_faces_png/s12\n",
      "processing ./dataset/orl_faces_png/s3\n",
      "processing ./dataset/orl_faces_png/s32\n",
      "train_label[0]: [0 1 0 0 0 0 0 0 0 0 0 0 0 0 0 0 0 0 0 0 0 0 0 0 0 0 0 0 0 0 0 0 0 0 0 0 0\n",
      " 0 0 0]\n"
     ]
    },
    {
     "data": {
      "image/png": "[encoded data removed]",
      "text/plain": [
       "<Figure size 432x288 with 1 Axes>"
      ]
     },
     "metadata": {},
     "output_type": "display_data"
    }
   ],
   "source": [
    "with tf.Session() as sess:\n",
    "    photo_data = create_image_lists(sess, VALIDATION_PERCENTAGE, TEST_PERCENTAGE)\n",
    "    np.save(OUTPUT_FILE, photo_data)\n",
    "#     li = one_hot(4,5)\n",
    "#     print(li,type(li))"
   ]
  },
  {
   "cell_type": "code",
   "execution_count": 4,
   "metadata": {},
   "outputs": [
    {
     "name": "stdout",
     "output_type": "stream",
     "text": [
      "(321, 112, 112, 1)\n",
      "(321, 40)\n",
      "(36, 112, 112, 1)\n",
      "(36, 40)\n",
      "(43, 112, 112, 1)\n",
      "(43, 40)\n"
     ]
    }
   ],
   "source": [
    "# [training_images, training_labels,validation_images, validation_labels,testing_images, testing_labels]\n",
    "for i in range(6):\n",
    "#     print(list.count(photo_data[i]))\n",
    "    print(np.asarray(photo_data[i]).shape)"
   ]
  },
  {
   "cell_type": "code",
   "execution_count": null,
   "metadata": {},
   "outputs": [],
   "source": []
  }
 ],
 "metadata": {
  "kernelspec": {
   "display_name": "Python 3",
   "language": "python",
   "name": "python3"
  },
  "language_info": {
   "codemirror_mode": {
    "name": "ipython",
    "version": 3
   },
   "file_extension": ".py",
   "mimetype": "text/x-python",
   "name": "python",
   "nbconvert_exporter": "python",
   "pygments_lexer": "ipython3",
   "version": "3.5.2"
  }
 },
 "nbformat": 4,
 "nbformat_minor": 2
}
