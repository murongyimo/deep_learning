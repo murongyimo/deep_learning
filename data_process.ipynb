{
 "cells": [
  {
   "cell_type": "code",
   "execution_count": 4,
   "metadata": {},
   "outputs": [],
   "source": [
    "import glob\n",
    "import os.path\n",
    "import numpy as np\n",
    "import tensorflow as tf\n",
    "from tensorflow.python.platform import gfile\n",
    "import tensorflow.contrib.slim as slim\n",
    "\n",
    "# 处理好之后的数据文件。\n",
    "INPUT_DATA = './dataset/orl_faces.npy'\n",
    "# 保存训练好的模型的路径。\n",
    "TRAIN_FILE = './model'"
   ]
  },
  {
   "cell_type": "code",
   "execution_count": 5,
   "metadata": {},
   "outputs": [
    {
     "name": "stdout",
     "output_type": "stream",
     "text": [
      "321 training examples, 36 validation examples and 43 testing examples.\n"
     ]
    }
   ],
   "source": [
    "# 加载预处理好的数据。\n",
    "photo_data = np.load(INPUT_DATA)\n",
    "training_images = photo_data[0]\n",
    "n_training_example = len(training_images)\n",
    "training_labels = photo_data[1]\n",
    "validation_images = photo_data[2]\n",
    "validation_labels = photo_data[3]\n",
    "\n",
    "testing_images = photo_data[4]\n",
    "testing_labels = photo_data[5]\n",
    "print(\"%d training examples, %d validation examples and %d testing examples.\" % (\n",
    "    n_training_example, len(validation_labels), len(testing_labels)))\n",
    "\n",
    "#定义输入\n",
    "images = tf.placeholder(tf.float32, [None, 112, 112, 1], name='input_images')\n",
    "labels = tf.placeholder(tf.int64, [None], name='labels')"
   ]
  },
  {
   "cell_type": "code",
   "execution_count": null,
   "metadata": {},
   "outputs": [],
   "source": []
  }
 ],
 "metadata": {
  "kernelspec": {
   "display_name": "Python 3",
   "language": "python",
   "name": "python3"
  },
  "language_info": {
   "codemirror_mode": {
    "name": "ipython",
    "version": 3
   },
   "file_extension": ".py",
   "mimetype": "text/x-python",
   "name": "python",
   "nbconvert_exporter": "python",
   "pygments_lexer": "ipython3",
   "version": "3.5.2"
  }
 },
 "nbformat": 4,
 "nbformat_minor": 2
}
